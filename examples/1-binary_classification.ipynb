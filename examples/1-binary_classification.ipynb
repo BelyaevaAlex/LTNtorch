{
 "cells": [
  {
   "cell_type": "markdown",
   "metadata": {
    "collapsed": true,
    "pycharm": {
     "name": "#%% md\n"
    }
   },
   "source": [
    "# The reach of Logic Tensor Networks\n",
    "\n",
    "**Premise:** we suggest going through the tutorials (`/tutorial` folder) before going through these examples.\n",
    "\n",
    "The objective of this series of examples is to show how the language of Real Logic can be used to specify a number of\n",
    "tasks that involve learning from data and reasoning. Examples of such tasks are classification, regression, clustering,\n",
    "link prediction, etc.\n",
    "\n",
    "The solution of a problem specified in Real Logic is obtained by interpreting such a specification in Logic Tensor Networks.\n",
    "The LTN library implements Real Logic in PyTorch. Every logical operator is grounded using PyTorch primitives such that\n",
    "LTN implements directly a PyTorch graph. Due to PyTorch built-in optimization, LTN is relatively efficient while\n",
    "providing the expressive power of first-order logic.\n",
    "\n",
    "The first tutorial that we will see is based on one of the most simple and intuitive machine learning tasks, the binary\n",
    "classification.\n",
    "\n",
    "## Binary classification\n",
    "\n",
    "The simplest machine learning task is binary classification. Suppose that one wants to learn a binary classifier $A$ for\n",
    "a set of points in $[0, 1]^2$. Suppose that a set of positive and negative training examples is given.\n",
    "\n",
    "LTN uses the following language and grounding:\n",
    "\n",
    "**Domains:**\n",
    "- $points$ (denoting the examples);\n",
    "\n",
    "**Variables:**\n",
    "- $x_+$ for the positive examples;\n",
    "- $x_-$ for the negative examples;\n",
    "- $x$ for all examples;\n",
    "- $D(x) = D(x_+) = D(x_-) = points$, where $D(.)$ is a function which returns the domain of a non-logical symbol given in\n",
    "input.\n",
    "\n",
    "**Predicates:**\n",
    "- $A(x)$ for the trainable classifier;\n",
    "- $D_{in}(A) = points$, where $D_{in}(.)$ is a function which returns the domain of the input of a function or predicate\n",
    "given in input.\n",
    "\n",
    "**Axioms:**\n",
    "\n",
    "- $\\forall x_+ A(x_+)$: the predicate must be true for positive examples;\n",
    "- $\\forall x_- \\lnot A(x_-)$: the predicate must be false for negative examples.\n",
    "\n",
    "**Grounding:**\n",
    "- $\\mathcal{G}(points)=[0,1]^{2}$;\n",
    "- $\\mathcal{G}(x) \\in[0,1]^{m \\times 2}$: $\\mathcal{G}(x)$ is a sequence of $m$ points, that is, $m$ examples;\n",
    "- $\\mathcal{G}\\left(x_{+}\\right)=\\langle d \\in \\mathcal{G}(x) \\mid\\|d-(0.5,0.5)\\|<0.09\\rangle$: $\\mathcal{G}(x_+)$ are,\n",
    "by definition in this example, the training examples with Euclidean distance to the center $(0.5, 0.5)$ smaller than\n",
    "the threshold of 0.09;\n",
    "- $\\mathcal{G}\\left(x_{+}\\right)=\\langle d \\in \\mathcal{G}(x) \\mid\\|d-(0.5,0.5)\\|>=0.09\\rangle$: $\\mathcal{G}(x_+)$ are,\n",
    "by definition in this example, the training examples with Euclidean distance to the center $(0.5, 0.5)$ larger or equal\n",
    "to the threshold of 0.09;\n",
    "- $\\mathcal{G}(A \\mid \\theta): x \\mapsto \\sigma\\left(\\operatorname{MLP}_{\\theta}(x)\\right)$, where $MLP$\n",
    "is a Multi-Layer Perceptron with a single output neuron, whose parameters $\\theta$ have to be learned.\n",
    "\n",
    "\n",
    "### Dataset\n",
    "\n",
    "Now, let's define our toy dataset with points in $[0, 1]^2$. We randomly generate 100 points, and we give them some labels\n",
    "according to the *grounding* defined above. So, points near the center will be classified as positives, while points distant\n",
    "from the center will be classified as negatives."
   ]
  },
  {
   "cell_type": "code",
   "execution_count": 7,
   "outputs": [],
   "source": [
    "import torch\n",
    "import matplotlib.pyplot as plt\n",
    "nr_samples = 100\n",
    "dataset = torch.rand((nr_samples, 2))\n",
    "labels_dataset = torch.sum(torch.square(dataset - torch.tensor([.5, .5])), dim=1) < .09"
   ],
   "metadata": {
    "collapsed": false,
    "pycharm": {
     "name": "#%%\n"
    }
   }
  },
  {
   "cell_type": "markdown",
   "source": [
    "Let's plot our dataset and see that points around the center have a positive label, while points far from the center have\n",
    "negative labels."
   ],
   "metadata": {
    "collapsed": false,
    "pycharm": {
     "name": "#%% md\n"
    }
   }
  },
  {
   "cell_type": "code",
   "execution_count": 8,
   "outputs": [
    {
     "data": {
      "text/plain": "<Figure size 288x288 with 1 Axes>",
      "image/png": "[encoded data removed]"
     },
     "metadata": {
      "needs_background": "light"
     },
     "output_type": "display_data"
    }
   ],
   "source": [
    "plt.figure(figsize=(4,4))\n",
    "plt.scatter(dataset[labels_dataset][:,0],dataset[labels_dataset][:,1],label='A')\n",
    "plt.scatter(dataset[torch.logical_not(labels_dataset)][:,0],dataset[torch.logical_not(labels_dataset)][:,1],label='~A')\n",
    "plt.title(\"Ground truth\")\n",
    "plt.legend()\n",
    "plt.show()"
   ],
   "metadata": {
    "collapsed": false,
    "pycharm": {
     "name": "#%%\n"
    }
   }
  },
  {
   "cell_type": "markdown",
   "source": [
    "### LTN setting\n",
    "\n",
    "In order to define our knowledge base (axioms), we need to define predicate $A$, the connectives, quantifiers, and the\n",
    "`SatAgg` operator.\n",
    "\n",
    "For the connective and quantifiers, we use the stable product configuration (seen in the tutorials). For predicate $A$, we use a simple $MLP$\n",
    "implemented as a `torch.nn.Module`.\n",
    "\n",
    "`SatAgg` is the SAT aggregator, an operator which aggregates the truth values of all the closed\n",
    "formulas included in the knowledge base. The `SatAgg`, by default, is implemented using the `pMeanError` aggregator."
   ],
   "metadata": {
    "collapsed": false,
    "pycharm": {
     "name": "#%% md\n"
    }
   }
  },
  {
   "cell_type": "code",
   "execution_count": 9,
   "outputs": [],
   "source": [
    "import ltn\n",
    "# we define predicate A\n",
    "class ModelA(torch.nn.Module):\n",
    "    def __init__(self):\n",
    "        super(ModelA, self).__init__()\n",
    "        self.sigmoid = torch.nn.Sigmoid()\n",
    "        self.layer1 = torch.nn.Linear(2, 16)\n",
    "        self.layer2 = torch.nn.Linear(16, 16)\n",
    "        self.layer3 = torch.nn.Linear(16, 1)\n",
    "        self.elu = torch.nn.ELU()\n",
    "\n",
    "    def forward(self, x):\n",
    "        x = self.elu(self.layer1(x))\n",
    "        x = self.elu(self.layer2(x))\n",
    "        return self.sigmoid(self.layer3(x))\n",
    "\n",
    "\n",
    "A = ltn.Predicate(ModelA())\n",
    "\n",
    "# we define the connectives, quantifiers, and the SatAgg\n",
    "Not = ltn.Connective(ltn.fuzzy_ops.NotStandard())\n",
    "Forall = ltn.Quantifier(ltn.fuzzy_ops.AggregPMeanError(p=2), quantifier=\"f\")\n",
    "SatAgg = ltn.fuzzy_ops.SatAgg()"
   ],
   "metadata": {
    "collapsed": false,
    "pycharm": {
     "name": "#%%\n"
    }
   }
  },
  {
   "cell_type": "markdown",
   "source": [
    "### Utils\n",
    "\n",
    "Now, we need to define some utility classes and functions.\n",
    "\n",
    "We define a standard PyTorch data loader, which takes as input the dataset and returns a generator of batches of data.\n",
    "In particular, we need a data loader instance for training data and one for testing data. 50 examples are selected\n",
    "for training, 50 examples are selected for testing.\n",
    "\n",
    "Then, we define functions to evaluate the model performances. The model is evaluated on the test set using the following metrics:\n",
    "- the satisfaction level of the knowledge base: measure the ability of LTN to satisfy the knowledge;\n",
    "- the classification accuracy: measure the quality of the predictions."
   ],
   "metadata": {
    "collapsed": false,
    "pycharm": {
     "name": "#%% md\n"
    }
   }
  },
  {
   "cell_type": "code",
   "execution_count": 10,
   "outputs": [],
   "source": [
    "from sklearn.metrics import accuracy_score\n",
    "import numpy as np\n",
    "\n",
    "# this is a standard PyTorch DataLoader to load the dataset for the training and testing of the model\n",
    "class DataLoader(object):\n",
    "    def __init__(self,\n",
    "                 data,\n",
    "                 labels,\n",
    "                 batch_size=1,\n",
    "                 shuffle=True):\n",
    "        self.data = data\n",
    "        self.labels = labels\n",
    "        self.batch_size = batch_size\n",
    "        self.shuffle = shuffle\n",
    "\n",
    "    def __len__(self):\n",
    "        return int(np.ceil(self.data.shape[0] / self.batch_size))\n",
    "\n",
    "    def __iter__(self):\n",
    "        n = self.data.shape[0]\n",
    "        idxlist = list(range(n))\n",
    "        if self.shuffle:\n",
    "            np.random.shuffle(idxlist)\n",
    "\n",
    "        for _, start_idx in enumerate(range(0, n, self.batch_size)):\n",
    "            end_idx = min(start_idx + self.batch_size, n)\n",
    "            data = self.data[idxlist[start_idx:end_idx]]\n",
    "            labels = self.labels[idxlist[start_idx:end_idx]]\n",
    "\n",
    "            yield data, labels\n",
    "\n",
    "\n",
    "# define metrics for evaluation of the model\n",
    "\n",
    "# it computes the overall satisfaction level on the knowledge base using the given data loader (train or test)\n",
    "def compute_sat_level(loader):\n",
    "    mean_sat = 0\n",
    "    for data, labels in loader:\n",
    "        x_A = ltn.Variable(\"x_A\", data[torch.nonzero(labels)])  # positive examples\n",
    "        x_not_A = ltn.Variable(\"x_not_A\",\n",
    "                               data[torch.nonzero(torch.logical_not(labels))])  # negative examples\n",
    "        mean_sat += SatAgg(\n",
    "            Forall(x_A, A(x_A)),\n",
    "            Forall(x_not_A, Not(A(x_not_A)))\n",
    "        )\n",
    "    mean_sat /= len(loader)\n",
    "    return mean_sat\n",
    "\n",
    "# it computes the overall accuracy of the predictions of the trained model using the given data loader\n",
    "# (train or test)\n",
    "def compute_accuracy(loader):\n",
    "    mean_accuracy = 0.0\n",
    "    for data, labels in loader:\n",
    "        predictions = A.model(data).detach().numpy()\n",
    "        predictions = np.where(predictions > 0.5, 1., 0.).flatten()\n",
    "        mean_accuracy += accuracy_score(labels, predictions)\n",
    "\n",
    "    return mean_accuracy / len(loader)\n",
    "\n",
    "# create train and test loader, 50 points each\n",
    "# batch size is 64, meaning there is only one batch for epoch\n",
    "train_loader = DataLoader(dataset[:50], labels_dataset[:50], 64, True)\n",
    "test_loader = DataLoader(dataset[50:], labels_dataset[50:], 64, False)"
   ],
   "metadata": {
    "collapsed": false,
    "pycharm": {
     "name": "#%%\n"
    }
   }
  },
  {
   "cell_type": "markdown",
   "source": [
    "### Learning\n",
    "Let us define $D$ the data set of all examples. The objective function with $\\mathcal{K}=\\left\\{\\forall x_{+} A\\left(x_{+}\\right), \\forall x_{-} \\neg A\\left(x_{-}\\right)\\right\\}$\n",
    "is given by $\\operatorname{SatAgg}_{\\phi \\in \\mathcal{K}} \\mathcal{G}_{\\boldsymbol{\\theta}, x \\leftarrow \\boldsymbol{D}}(\\phi)$.\n",
    "\n",
    "In practice, the optimizer uses the following loss function:\n",
    "\n",
    "$\\boldsymbol{L}=\\left(1-\\underset{\\phi \\in \\mathcal{K}}{\\operatorname{SatAgg}} \\mathcal{G}_{\\boldsymbol{\\theta}, x \\leftarrow \\boldsymbol{B}}(\\phi)\\right)$\n",
    "\n",
    "where $B$ is a mini batch sampled from $D$.\n",
    "\n",
    "The notation $\\mathcal{G}_{x \\leftarrow \\boldsymbol{D}}(\\phi(x))$ means that the variable $x$ is grounded with the data $D$ when\n",
    "grounding $\\phi(x)$.\n",
    "\n",
    "By minimizing the loss, we will try to maximize the `SatAgg` operator applied to the knowledge base. Maximizing the `SatAgg` operator\n",
    "means maximizing the satisfaction level of each formula included in the knowledge base.\n",
    "\n",
    "Notice that the objective and the loss function depend on the following hyper-parameters:\n",
    "- the choice of fuzzy logic operator semantics used to approximate each connective and quantifier;\n",
    "- the choice of hyper-parameters underlying the operators, such as the value of the exponent $p$ in any generalized mean;\n",
    "- the choice of formula aggregator function `SatAgg`.\n",
    "\n",
    "In the following, we learn our LTN in the binary classification task using the satisfaction of the knowledge base as\n",
    "an objective. In other words, we want to learn the parameters $\\theta$ of unary predicate $A$ in such a way the two\n",
    "axioms in the knowledge base are maximally satisfied. We train our model for 1000 epochs and use the `Adam` optimizer.\n",
    "\n",
    "The following figure shows the LTN computational graph for this specific task.\n",
    "\n",
    "![Computational graph](/examples/images/binary-classification.png)"
   ],
   "metadata": {
    "collapsed": false,
    "pycharm": {
     "name": "#%% md\n"
    }
   }
  },
  {
   "cell_type": "code",
   "execution_count": 11,
   "outputs": [
    {
     "name": "stdout",
     "output_type": "stream",
     "text": [
      " epoch 0 | loss 0.5028 | Train Sat 0.498 | Test Sat 0.498 | Train Acc 0.280 | Test Acc 0.320\n",
      " epoch 20 | loss 0.5003 | Train Sat 0.500 | Test Sat 0.499 | Train Acc 0.660 | Test Acc 0.520\n",
      " epoch 40 | loss 0.4997 | Train Sat 0.500 | Test Sat 0.499 | Train Acc 0.440 | Test Acc 0.420\n",
      " epoch 60 | loss 0.4991 | Train Sat 0.501 | Test Sat 0.499 | Train Acc 0.500 | Test Acc 0.420\n",
      " epoch 80 | loss 0.4982 | Train Sat 0.502 | Test Sat 0.500 | Train Acc 0.460 | Test Acc 0.460\n",
      " epoch 100 | loss 0.4967 | Train Sat 0.503 | Test Sat 0.501 | Train Acc 0.480 | Test Acc 0.460\n",
      " epoch 120 | loss 0.4945 | Train Sat 0.506 | Test Sat 0.503 | Train Acc 0.560 | Test Acc 0.520\n",
      " epoch 140 | loss 0.4908 | Train Sat 0.509 | Test Sat 0.507 | Train Acc 0.680 | Test Acc 0.620\n",
      " epoch 160 | loss 0.4851 | Train Sat 0.515 | Test Sat 0.513 | Train Acc 0.780 | Test Acc 0.700\n",
      " epoch 180 | loss 0.4767 | Train Sat 0.524 | Test Sat 0.522 | Train Acc 0.780 | Test Acc 0.760\n",
      " epoch 200 | loss 0.4647 | Train Sat 0.536 | Test Sat 0.534 | Train Acc 0.800 | Test Acc 0.820\n",
      " epoch 220 | loss 0.4485 | Train Sat 0.552 | Test Sat 0.550 | Train Acc 0.820 | Test Acc 0.840\n",
      " epoch 240 | loss 0.4279 | Train Sat 0.573 | Test Sat 0.570 | Train Acc 0.840 | Test Acc 0.860\n",
      " epoch 260 | loss 0.4032 | Train Sat 0.598 | Test Sat 0.593 | Train Acc 0.840 | Test Acc 0.860\n",
      " epoch 280 | loss 0.3759 | Train Sat 0.625 | Test Sat 0.620 | Train Acc 0.840 | Test Acc 0.920\n",
      " epoch 300 | loss 0.3484 | Train Sat 0.653 | Test Sat 0.647 | Train Acc 0.840 | Test Acc 0.940\n",
      " epoch 320 | loss 0.3214 | Train Sat 0.680 | Test Sat 0.673 | Train Acc 0.840 | Test Acc 0.940\n",
      " epoch 340 | loss 0.2948 | Train Sat 0.707 | Test Sat 0.696 | Train Acc 0.880 | Test Acc 0.940\n",
      " epoch 360 | loss 0.2689 | Train Sat 0.732 | Test Sat 0.716 | Train Acc 0.900 | Test Acc 0.940\n",
      " epoch 380 | loss 0.2444 | Train Sat 0.757 | Test Sat 0.730 | Train Acc 0.940 | Test Acc 0.940\n",
      " epoch 400 | loss 0.2216 | Train Sat 0.780 | Test Sat 0.741 | Train Acc 0.940 | Test Acc 0.940\n",
      " epoch 420 | loss 0.2010 | Train Sat 0.800 | Test Sat 0.750 | Train Acc 0.980 | Test Acc 0.920\n",
      " epoch 440 | loss 0.1824 | Train Sat 0.818 | Test Sat 0.756 | Train Acc 1.000 | Test Acc 0.940\n",
      " epoch 460 | loss 0.1658 | Train Sat 0.835 | Test Sat 0.761 | Train Acc 1.000 | Test Acc 0.940\n",
      " epoch 480 | loss 0.1508 | Train Sat 0.850 | Test Sat 0.763 | Train Acc 1.000 | Test Acc 0.940\n",
      " epoch 500 | loss 0.1371 | Train Sat 0.864 | Test Sat 0.764 | Train Acc 1.000 | Test Acc 0.940\n",
      " epoch 520 | loss 0.1245 | Train Sat 0.876 | Test Sat 0.764 | Train Acc 1.000 | Test Acc 0.940\n",
      " epoch 540 | loss 0.1127 | Train Sat 0.888 | Test Sat 0.763 | Train Acc 1.000 | Test Acc 0.940\n",
      " epoch 560 | loss 0.1017 | Train Sat 0.899 | Test Sat 0.762 | Train Acc 1.000 | Test Acc 0.940\n",
      " epoch 580 | loss 0.0915 | Train Sat 0.909 | Test Sat 0.761 | Train Acc 1.000 | Test Acc 0.940\n",
      " epoch 600 | loss 0.0821 | Train Sat 0.918 | Test Sat 0.759 | Train Acc 1.000 | Test Acc 0.940\n",
      " epoch 620 | loss 0.0736 | Train Sat 0.927 | Test Sat 0.758 | Train Acc 1.000 | Test Acc 0.940\n",
      " epoch 640 | loss 0.0661 | Train Sat 0.934 | Test Sat 0.757 | Train Acc 1.000 | Test Acc 0.940\n",
      " epoch 660 | loss 0.0594 | Train Sat 0.941 | Test Sat 0.755 | Train Acc 1.000 | Test Acc 0.940\n",
      " epoch 680 | loss 0.0535 | Train Sat 0.947 | Test Sat 0.754 | Train Acc 1.000 | Test Acc 0.940\n",
      " epoch 700 | loss 0.0483 | Train Sat 0.952 | Test Sat 0.753 | Train Acc 1.000 | Test Acc 0.940\n",
      " epoch 720 | loss 0.0437 | Train Sat 0.956 | Test Sat 0.751 | Train Acc 1.000 | Test Acc 0.940\n",
      " epoch 740 | loss 0.0397 | Train Sat 0.960 | Test Sat 0.750 | Train Acc 1.000 | Test Acc 0.940\n",
      " epoch 760 | loss 0.0362 | Train Sat 0.964 | Test Sat 0.749 | Train Acc 1.000 | Test Acc 0.940\n",
      " epoch 780 | loss 0.0330 | Train Sat 0.967 | Test Sat 0.748 | Train Acc 1.000 | Test Acc 0.940\n",
      " epoch 800 | loss 0.0302 | Train Sat 0.970 | Test Sat 0.748 | Train Acc 1.000 | Test Acc 0.940\n",
      " epoch 820 | loss 0.0277 | Train Sat 0.972 | Test Sat 0.747 | Train Acc 1.000 | Test Acc 0.940\n",
      " epoch 840 | loss 0.0255 | Train Sat 0.975 | Test Sat 0.746 | Train Acc 1.000 | Test Acc 0.940\n",
      " epoch 860 | loss 0.0235 | Train Sat 0.977 | Test Sat 0.745 | Train Acc 1.000 | Test Acc 0.940\n",
      " epoch 880 | loss 0.0218 | Train Sat 0.978 | Test Sat 0.744 | Train Acc 1.000 | Test Acc 0.940\n",
      " epoch 900 | loss 0.0201 | Train Sat 0.980 | Test Sat 0.744 | Train Acc 1.000 | Test Acc 0.940\n",
      " epoch 920 | loss 0.0187 | Train Sat 0.981 | Test Sat 0.743 | Train Acc 1.000 | Test Acc 0.940\n",
      " epoch 940 | loss 0.0174 | Train Sat 0.983 | Test Sat 0.743 | Train Acc 1.000 | Test Acc 0.940\n",
      " epoch 960 | loss 0.0162 | Train Sat 0.984 | Test Sat 0.742 | Train Acc 1.000 | Test Acc 0.940\n",
      " epoch 980 | loss 0.0151 | Train Sat 0.985 | Test Sat 0.742 | Train Acc 1.000 | Test Acc 0.940\n"
     ]
    }
   ],
   "source": [
    "optimizer = torch.optim.Adam(A.parameters(), lr=0.001)\n",
    "\n",
    "# training of the predicate A using a loss containing the satisfaction level of the knowledge base\n",
    "# the objective it to maximize the satisfaction level of the knowledge base\n",
    "for epoch in range(1000):\n",
    "    train_loss = 0.0\n",
    "    for batch_idx, (data, labels) in enumerate(train_loader):\n",
    "        optimizer.zero_grad()\n",
    "        # we ground the variables with current batch data\n",
    "        x_A = ltn.Variable(\"x_A\", data[torch.nonzero(labels)]) # positive examples\n",
    "        x_not_A = ltn.Variable(\"x_not_A\", data[torch.nonzero(torch.logical_not(labels))]) # negative examples\n",
    "        sat_agg = SatAgg(\n",
    "            Forall(x_A, A(x_A)),\n",
    "            Forall(x_not_A, Not(A(x_not_A)))\n",
    "        )\n",
    "        loss = 1. - sat_agg\n",
    "        loss.backward()\n",
    "        optimizer.step()\n",
    "        train_loss += loss.item()\n",
    "    train_loss = train_loss / len(train_loader)\n",
    "\n",
    "    # we print metrics every 20 epochs of training\n",
    "    if epoch % 20 == 0:\n",
    "        print(\" epoch %d | loss %.4f | Train Sat %.3f | Test Sat %.3f | Train Acc %.3f | Test Acc %.3f\"\n",
    "              %(epoch, train_loss, compute_sat_level(train_loader), compute_sat_level(test_loader),\n",
    "                    compute_accuracy(train_loader), compute_accuracy(test_loader)))"
   ],
   "metadata": {
    "collapsed": false,
    "pycharm": {
     "name": "#%%\n"
    }
   }
  },
  {
   "cell_type": "markdown",
   "source": [
    "Notice that variables $x_+$ and $x_-$ are grounded batch by batch with new data arriving from the data loader. This is exactly what\n",
    "we mean with $\\mathcal{G}_{x \\leftarrow \\boldsymbol{B}}(\\phi(x))$, where $B$ is a mini-batch sampled by the data loader.\n",
    "\n",
    "Notice also that `SatAgg` takes as input the two axioms and returns one truth value which can be interpreted as the satisfaction\n",
    "level of the knowledge base.\n",
    "\n",
    "Note that after 800 epochs the test accuracy is around 1. This shows the power of LTN in learning\n",
    "the binary classification task only using the satisfaction of a knowledge base as an objective.\n",
    "\n",
    "In the following, we query predicate $A$ on training data and test data. The plot shows the extent of generalization."
   ],
   "metadata": {
    "collapsed": false,
    "pycharm": {
     "name": "#%% md\n"
    }
   }
  },
  {
   "cell_type": "code",
   "execution_count": 12,
   "outputs": [
    {
     "data": {
      "text/plain": "<Figure size 648x792 with 9 Axes>",
      "image/png": "[encoded data removed]"
     },
     "metadata": {
      "needs_background": "light"
     },
     "output_type": "display_data"
    }
   ],
   "source": [
    "nr_samples_train = 50\n",
    "\n",
    "fig = plt.figure(figsize=(9, 11))\n",
    "\n",
    "plt.subplots_adjust(wspace=0.2,hspace=0.3)\n",
    "ax = plt.subplot2grid((3,8),(0,2),colspan=4)\n",
    "ax.set_title(\"ground truth\")\n",
    "ax.scatter(dataset[labels_dataset][:,0],dataset[labels_dataset][:,1],label='A')\n",
    "ax.scatter(dataset[torch.logical_not(labels_dataset)][:,0],dataset[torch.logical_not(labels_dataset)][:,1],label='~A')\n",
    "ax.legend()\n",
    "\n",
    "# Training data\n",
    "x = ltn.Variable(\"x\",dataset[:nr_samples_train])\n",
    "fig.add_subplot(3, 2, 3)\n",
    "result=A(x)\n",
    "plt.title(\"A(x) - training data\")\n",
    "plt.scatter(dataset[:nr_samples_train,0],dataset[:nr_samples_train,1],c=result.value.detach().numpy().squeeze())\n",
    "plt.colorbar()\n",
    "\n",
    "fig.add_subplot(3, 2, 4)\n",
    "result=Not(A(x))\n",
    "plt.title(\"~A(x) - training data\")\n",
    "plt.scatter(dataset[:nr_samples_train,0],dataset[:nr_samples_train,1],c=result.value.detach().numpy().squeeze())\n",
    "plt.colorbar()\n",
    "\n",
    "# Test data\n",
    "x = ltn.Variable(\"x\",dataset[nr_samples_train:])\n",
    "fig.add_subplot(3, 2, 5)\n",
    "\n",
    "result=A(x)\n",
    "plt.title(\"A(x) - test data\")\n",
    "plt.scatter(dataset[nr_samples_train:,0],dataset[nr_samples_train:,1],c=result.value.detach().numpy().squeeze())\n",
    "plt.colorbar()\n",
    "\n",
    "fig.add_subplot(3, 2, 6)\n",
    "result=Not(A(x))\n",
    "plt.title(\"~A(x) - test data\")\n",
    "plt.scatter(dataset[nr_samples_train:,0],dataset[nr_samples_train:,1],c=result.value.detach().numpy().squeeze())\n",
    "plt.colorbar()\n",
    "plt.savefig(\"ex_binary_testing.pdf\")\n",
    "plt.show()"
   ],
   "metadata": {
    "collapsed": false,
    "pycharm": {
     "name": "#%%\n"
    }
   }
  },
  {
   "cell_type": "markdown",
   "source": [
    "### Discussion\n",
    "\n",
    "This first example, although straightforward, illustrates step-by-step the process of using LTN on a simple setting.\n",
    "\n",
    "In particular, the knowledge has been used only to give the ground truth to the model. Through the knowledge, the model\n",
    "knows that predicate $A$ has to be maximized when the input is a positive example, while it has to be minimized when the\n",
    "input is a negative example. This is exactly what the binary cross-entropy does. So, using LTN we have reached the same\n",
    "result with just a different setting.\n",
    "\n",
    "In general, methods such LTN work well when the knowledge codifies new information respect to the ground truth. In other\n",
    "words, when information that come from data and knowledge is complementary, namely it is not redundant.\n",
    "\n",
    "In the next tutorials, we will show how the LTN language can be used to solve progressively more complex\n",
    "problems by combining learning and reasoning."
   ],
   "metadata": {
    "collapsed": false,
    "pycharm": {
     "name": "#%% md\n"
    }
   }
  }
 ],
 "metadata": {
  "kernelspec": {
   "display_name": "Python 3",
   "language": "python",
   "name": "python3"
  },
  "language_info": {
   "codemirror_mode": {
    "name": "ipython",
    "version": 2
   },
   "file_extension": ".py",
   "mimetype": "text/x-python",
   "name": "python",
   "nbconvert_exporter": "python",
   "pygments_lexer": "ipython2",
   "version": "2.7.6"
  }
 },
 "nbformat": 4,
 "nbformat_minor": 0
}